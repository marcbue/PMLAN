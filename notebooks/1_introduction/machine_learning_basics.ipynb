{
 "cells": [
  {
   "cell_type": "markdown",
   "source": [
    "# 1. Machine Learning Basics"
   ],
   "metadata": {
    "collapsed": false
   },
   "id": "c1d12c59ede4e190"
  },
  {
   "cell_type": "markdown",
   "source": [
    "## 1.1 What is machine learning?"
   ],
   "metadata": {
    "collapsed": false
   },
   "id": "784df651d532b4d5"
  },
  {
   "cell_type": "markdown",
   "source": [
    "*Definition:* A computer program is said to learn from experience **E** with respect to some class of tasks **T**, and performance measure **P**, if its performance at tasks in **T**, as measured by **P** , improves with experience **E**.\n",
    "Here the problem will be viewed in a **probabilistic persepective**, meaning that all unknown quantities are treated as **random variable**, that are endowed with **probability distributions**.\n",
    "Why?:\n",
    "- optimal approach for decision making under uncertainty (see 5.1 in the book)\n",
    "- probabilistic modelling provides a unifying framework between many different fields, e.g. control theory, statistical physics, bio-statistics and more"
   ],
   "metadata": {
    "collapsed": false
   },
   "id": "cdbf91e8f5ac8871"
  },
  {
   "cell_type": "markdown",
   "source": [
    "## 1.2 Supervised learning"
   ],
   "metadata": {
    "collapsed": false
   },
   "id": "d2f90efab4d31e8"
  },
  {
   "cell_type": "markdown",
   "source": [
    "Task T: Learn a mapping $f$ from inputs $\\mathcal{x} \\in \\mathcal{X}$ to outputs $\\mathcal{y} \\in \\mathcal{Y}$.\n",
    "\n",
    "|                             |                                                                            |\n",
    "|-----------------------------|----------------------------------------------------------------------------|\n",
    "| Inputs:                     | $\\mathcal{x}$: **features**, **covariates**, **predictors**                |\n",
    "|                             | *Examples*: height/weight of people, or pixels in an image                 |\n",
    "|                             | Here: $\\mathcal{X}=\\mathbb{R}^D$; D - dimensionality of vector (#features) |                \n",
    "| Outputs:                    | $\\mathcal{y}$: **label**, **target**, **response**                         |\n",
    "\n",
    "Experience E: $N$ (**sample size**) input-output pairs $\\mathcal{D}={(\\mathcal{x}_n, \\mathcal{y}_n)}^{N}_{n=1}$: **training set**\n",
    "Performance P: Depends on the type of output we are predicting"
   ],
   "metadata": {
    "collapsed": false
   },
   "id": "c122dc746a74329f"
  },
  {
   "cell_type": "markdown",
   "source": [
    "### 1.2.1 Classification"
   ],
   "metadata": {
    "collapsed": false
   },
   "id": "e5778a17d24bc854"
  }
 ],
 "metadata": {
  "kernelspec": {
   "display_name": "Python 3",
   "language": "python",
   "name": "python3"
  },
  "language_info": {
   "codemirror_mode": {
    "name": "ipython",
    "version": 2
   },
   "file_extension": ".py",
   "mimetype": "text/x-python",
   "name": "python",
   "nbconvert_exporter": "python",
   "pygments_lexer": "ipython2",
   "version": "2.7.6"
  }
 },
 "nbformat": 4,
 "nbformat_minor": 5
}
